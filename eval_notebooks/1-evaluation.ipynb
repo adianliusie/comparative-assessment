{
 "cells": [
  {
   "cell_type": "code",
   "execution_count": 1,
   "metadata": {},
   "outputs": [],
   "source": [
    "%load_ext autoreload\n",
    "%autoreload 2"
   ]
  },
  {
   "cell_type": "code",
   "execution_count": null,
   "metadata": {},
   "outputs": [],
   "source": [
    "# to use evaluation notebook, you'll need to create a soft link to the src dir. Can be done with the command:\n",
    "!ln -s ../src"
   ]
  },
  {
   "cell_type": "code",
   "execution_count": 2,
   "metadata": {},
   "outputs": [
    {
     "name": "stderr",
     "output_type": "stream",
     "text": [
      "/rds/user/al826/hpc-work/envs/torch1.12/lib/python3.8/site-packages/tqdm/auto.py:22: TqdmWarning: IProgress not found. Please update jupyter and ipywidgets. See https://ipywidgets.readthedocs.io/en/stable/user_install.html\n",
      "  from .autonotebook import tqdm as notebook_tqdm\n"
     ]
    }
   ],
   "source": [
    "from src.evaluation.scripts import multi_system_evaluation, load_system\n",
    "\n",
    "BASE_PATH = '/home/al826/rds/hpc-work/2023/comparative/generate/output_text'\n",
    "\n",
    "def evaluation(system, mode, dataset, scores, prompt_nums=[1,2], balanced=False):\n",
    "    for score_type in scores:\n",
    "        paths = [f\"{BASE_PATH}/{dataset}/{system}/{score_type}/{mode}-{i}/outputs/combined.json\" for i in prompt_nums] \n",
    "        try:\n",
    "            out = multi_system_evaluation(paths, dataset=dataset, score_type=score_type, balanced=balanced)\n",
    "\n",
    "            for k in out['means'].keys():\n",
    "                #if k in ['sys_spear', 'spear']:\n",
    "                if k in ['spear']:\n",
    "                    mean = f\"{out['means'][k]:.1f}\"\n",
    "                    print(f\" & {mean:<4}\", end='')\n",
    "        except:\n",
    "            print(f\" & e\", end='')\n",
    "            \n",
    "def full_evaluation(dataset, scores):\n",
    "    for system in ['flant5-base', 'flant5-large', 'flant5-xl', 'flant5-xxl', 'llama2-7b-chat', 'llama2-13b-chat']:\n",
    "        print(f\"{system:<15}\", end=\"\")\n",
    "        evaluation(system, mode='scoring', dataset=dataset, scores=scores, balanced=False)\n",
    "        print()\n",
    "    print('-'*40)\n",
    "    for system in ['flant5-base', 'flant5-large', 'flant5-xl', 'flant5-xxl', 'llama2-7b-chat', 'llama2-13b-chat']:\n",
    "        print(f\"{system:<15}\", end=\"\")\n",
    "        evaluation(system, mode='comp-probs', dataset=dataset, scores=scores, balanced=False)\n",
    "        print()\n",
    "    print('-'*40)\n",
    "    for system in ['flant5-xl', 'flant5-xxl', 'llama2-7b-chat', 'llama2-13b-chat']:\n",
    "        print(f\"{system:<15}\", end=\"\")\n",
    "        evaluation(system, mode='comp-probs', dataset=dataset, scores=scores, balanced=True)\n",
    "        print()\n",
    "\n",
    "def long_evaluation(dataset, scores):\n",
    "    for system in ['flant5-base', 'flant5-large', 'flant5-xl', 'flant5-xxl', 'llama2-7b-chat', 'llama2-13b-chat']:\n",
    "        print(f\"{system:<15}\", end=\"\")\n",
    "        evaluation(system, mode='scoring', dataset=dataset, scores=scores, balanced=False)\n",
    "        print()\n",
    "    print('-'*40)\n",
    "    for system in ['flant5-base', 'flant5-large', 'flant5-xl', 'flant5-xxl', 'llama2-7b-chat', 'llama2-13b-chat']:\n",
    "        print(f\"{system:<15}\", end=\"\")\n",
    "        evaluation(system, mode='comp-probs', dataset=dataset, scores=scores, balanced=False)\n",
    "        print()\n",
    "    print('-'*40)\n",
    "    for system in ['flant5-xl', 'flant5-xxl', 'llama2-7b-chat', 'llama2-13b-chat']:\n",
    "        print(f\"{system:<15}\", end=\"\")\n",
    "        evaluation(system, mode='comp-probs', dataset=dataset, scores=scores, balanced=True)\n",
    "        print()"
   ]
  },
  {
   "cell_type": "code",
   "execution_count": 10,
   "metadata": {},
   "outputs": [
    {
     "name": "stderr",
     "output_type": "stream",
     "text": [
      "Using custom data configuration potsawee--podcast_summary_assessment-167ce0b4e501b900\n",
      "Found cached dataset parquet (/home/al826/rds/rds-altaslp-8YSp2LXTlkY/data/cache/huggingface/datasets/potsawee___parquet/potsawee--podcast_summary_assessment-167ce0b4e501b900/0.0.0/2a3b91fbd88a2c90d1dbbb32b460cf621d31bd5b05b934492fdef7d8d6f236ec)\n",
      "100%|█████████████████████████████████████████████████████████████████| 1/1 [00:00<00:00, 208.42it/s]\n",
      "Using custom data configuration potsawee--podcast_summary_assessment-167ce0b4e501b900\n",
      "Found cached dataset parquet (/home/al826/rds/rds-altaslp-8YSp2LXTlkY/data/cache/huggingface/datasets/potsawee___parquet/potsawee--podcast_summary_assessment-167ce0b4e501b900/0.0.0/2a3b91fbd88a2c90d1dbbb32b460cf621d31bd5b05b934492fdef7d8d6f236ec)\n",
      "100%|█████████████████████████████████████████████████████████████████| 1/1 [00:00<00:00, 229.28it/s]\n",
      "Using custom data configuration potsawee--podcast_summary_assessment-167ce0b4e501b900\n",
      "Found cached dataset parquet (/home/al826/rds/rds-altaslp-8YSp2LXTlkY/data/cache/huggingface/datasets/potsawee___parquet/potsawee--podcast_summary_assessment-167ce0b4e501b900/0.0.0/2a3b91fbd88a2c90d1dbbb32b460cf621d31bd5b05b934492fdef7d8d6f236ec)\n",
      "100%|█████████████████████████████████████████████████████████████████| 1/1 [00:00<00:00, 257.11it/s]\n",
      "Using custom data configuration potsawee--podcast_summary_assessment-167ce0b4e501b900\n",
      "Found cached dataset parquet (/home/al826/rds/rds-altaslp-8YSp2LXTlkY/data/cache/huggingface/datasets/potsawee___parquet/potsawee--podcast_summary_assessment-167ce0b4e501b900/0.0.0/2a3b91fbd88a2c90d1dbbb32b460cf621d31bd5b05b934492fdef7d8d6f236ec)\n",
      "100%|█████████████████████████████████████████████████████████████████| 1/1 [00:00<00:00, 316.53it/s]\n"
     ]
    },
    {
     "name": "stdout",
     "output_type": "stream",
     "text": [
      " & 8.9 "
     ]
    }
   ],
   "source": [
    "evaluation(system='llama2-7b-chat', mode='scoring', dataset='podcast', scores=['overall'], prompt_nums=[1,2], balanced=True)"
   ]
  },
  {
   "cell_type": "code",
   "execution_count": 4,
   "metadata": {},
   "outputs": [
    {
     "ename": "NameError",
     "evalue": "name 'asd' is not defined",
     "output_type": "error",
     "traceback": [
      "\u001b[0;31m---------------------------------------------------------------------------\u001b[0m",
      "\u001b[0;31mNameError\u001b[0m                                 Traceback (most recent call last)",
      "Cell \u001b[0;32mIn[4], line 1\u001b[0m\n\u001b[0;32m----> 1\u001b[0m \u001b[43masd\u001b[49m\n",
      "\u001b[0;31mNameError\u001b[0m: name 'asd' is not defined"
     ]
    }
   ],
   "source": [
    "asd"
   ]
  },
  {
   "cell_type": "code",
   "execution_count": null,
   "metadata": {},
   "outputs": [],
   "source": [
    "full_evaluation(dataset='summeval', scores=['coherency', 'consistency', 'fluency', 'relevance'])"
   ]
  },
  {
   "cell_type": "code",
   "execution_count": null,
   "metadata": {},
   "outputs": [],
   "source": [
    "full_evaluation(dataset='topicalchat', scores=['coherency', 'continuity', 'engagingness', 'naturalness'])"
   ]
  },
  {
   "cell_type": "code",
   "execution_count": null,
   "metadata": {},
   "outputs": [],
   "source": [
    "scores = ['coherency', 'continuity', 'engagingness', 'naturalness']\n",
    "evaluation('chatgpt', mode='scoring', dataset='topicalchat', scores=scores)"
   ]
  },
  {
   "cell_type": "code",
   "execution_count": null,
   "metadata": {},
   "outputs": [],
   "source": [
    "full_evaluation(dataset='webnlg', scores=['fluency', 'grammar', 'semantic'])"
   ]
  },
  {
   "cell_type": "code",
   "execution_count": null,
   "metadata": {},
   "outputs": [],
   "source": [
    "# system = 'llama2-13b-chat' #'llama2-7b-chat-old' #'flant5-xxl'\n",
    "# mode = 'comp-probs'  #comp-probs, comparative, scoring\n",
    "\n",
    "# evaluation(system, mode, dataset='topicalchat', scores=['coherency', 'continuity', 'engagingness', 'naturalness'], balanced=False)\n",
    "# evaluation(system, mode, dataset='topicalchat', scores=['coherency', 'continuity', 'engagingness', 'naturalness'], balanced=True)\n",
    "\n",
    "# evaluation(dataset='webnlg', scores=['fluency', 'grammar'], balanced=False)\n",
    "# evaluation(dataset='topicalchat', scores=['coherency', 'continuity', 'engagingness', 'naturalness'], balanced=True)\n",
    "# print()\n",
    "#evaluation(dataset='summeval', scores=['coherency', 'consistency', 'fluency', 'relevance'], balanced=True)\n",
    "#evaluation(dataset='topicalchat', scores=['coherency', 'continuity', 'engagingness', 'naturalness'], balanced=True)\n",
    "#evaluation(dataset='webnlg', scores=['fluency', 'grammar', 'semantic'], balanced=False)\n",
    "#evaluation(dataset='webnlg', scores=['fluency', 'grammar', 'semantic'], balanced=True)\n"
   ]
  },
  {
   "cell_type": "code",
   "execution_count": null,
   "metadata": {},
   "outputs": [],
   "source": [
    "from src.evaluation.scripts import multi_system_evaluation, load_system\n",
    "\n",
    "BASE_PATH = '/home/al826/rds/hpc-work/2023/comparative/generate/output_text'\n",
    "system = 'flant5-large' #'llama2-7b-chat-old' #'flant5-xxl'\n",
    "mode = 'comp-probs'  #comp-probs, comparative, scoring\n",
    "\n",
    "def evaluation(dataset, scores, prompt_nums=[1,2], balanced=False):\n",
    "    for score_type in scores:\n",
    "        paths = [f\"{BASE_PATH}/{dataset}/{system}/{score_type}/{mode}-{i}/outputs/combined.json\" for i in prompt_nums] \n",
    "        out = multi_system_evaluation(paths, dataset=dataset, score_type=score_type, balanced=balanced)\n",
    "\n",
    "        for k in out['means'].keys():\n",
    "            #if k in ['sys_spear', 'spear']:\n",
    "            if k in ['spear']:\n",
    "                print(f\" & {out['means'][k]:.1f}\", end='')\n",
    "\n",
    "# evaluation(dataset='topicalchat', scores=['coherency', 'continuity', 'engagingness', 'naturalness'], balanced=False)\n",
    "# evaluation(dataset='topicalchat', scores=['coherency', 'continuity', 'engagingness', 'naturalness'], balanced=True)\n",
    "\n",
    "evaluation(dataset='summeval', scores=['coherency', 'consistency', 'fluency', 'relevance'], balanced=False)\n",
    "evaluation(dataset='topicalchat', scores=['coherency', 'continuity', 'engagingness', 'naturalness'], balanced=False)\n",
    "evaluation(dataset='webnlg', scores=['fluency', 'grammar'], balanced=False)\n",
    "print()\n",
    "\n",
    "evaluation(dataset='summeval', scores=['coherency', 'consistency', 'fluency', 'relevance'], balanced=True)\n",
    "evaluation(dataset='topicalchat', scores=['coherency', 'continuity', 'engagingness', 'naturalness'], balanced=True)\n",
    "evaluation(dataset='webnlg', scores=['fluency', 'grammar'], balanced=True)\n"
   ]
  },
  {
   "cell_type": "code",
   "execution_count": null,
   "metadata": {},
   "outputs": [],
   "source": [
    "from src.evaluation.scripts import multi_system_evaluation, load_system\n",
    "\n",
    "BASE_PATH = '/home/al826/rds/hpc-work/2023/comparative/generate/output_text'\n",
    "system = 'chatgpt' #'flant5-xxl'\n",
    "mode = 'scoring'  #comp-probs, scoring\n",
    "\n",
    "def evaluation(dataset, scores, prompt_nums=[1,2], balanced=False):\n",
    "    for score_type in scores:\n",
    "        paths = [f\"{BASE_PATH}/{dataset}/{system}/{score_type}/{mode}-{i}/outputs/combined.json\" for i in prompt_nums] \n",
    "        out = multi_system_evaluation(paths, dataset=dataset, score_type=score_type, balanced=balanced)\n",
    "\n",
    "        for k in out['means'].keys():\n",
    "            #if k in ['sys_spear', 'spear']:\n",
    "            if k in ['spear']:\n",
    "                print(f\" & {out['means'][k]:.1f}\", end='')\n",
    "\n",
    "evaluation(dataset='summeval', scores=['coherency', 'consistency', 'fluency', 'relevance'], balanced=False)\n",
    "evaluation(dataset='topicalchat', scores=['coherency', 'continuity', 'engagingness', 'naturalness'], balanced=False)\n",
    "evaluation(dataset='webnlg', scores=['fluency', 'grammar', 'semantic'], balanced=False)\n",
    "print()\n",
    "\n",
    "evaluation(dataset='summeval', scores=['coherency', 'consistency', 'fluency', 'relevance'], balanced=True)\n",
    "evaluation(dataset='topicalchat', scores=['coherency', 'continuity', 'engagingness', 'naturalness'], balanced=True)\n",
    "evaluation(dataset='webnlg', scores=['fluency', 'grammar', 'semantic'], balanced=True)\n"
   ]
  },
  {
   "cell_type": "code",
   "execution_count": null,
   "metadata": {},
   "outputs": [],
   "source": [
    "asd"
   ]
  },
  {
   "cell_type": "code",
   "execution_count": null,
   "metadata": {},
   "outputs": [],
   "source": [
    "from src.evaluation.scripts import multi_system_evaluation, load_system\n",
    "\n",
    "BASE_PATH = '/home/al826/rds/hpc-work/2023/comparative/generate/output_text'\n",
    "system = 'flant5-xl'\n",
    "mode = 'comp-probs'  #comp-probs, scoring\n",
    "dataset='summeval'\n",
    "\n",
    "prompt_nums = [1, 2]\n",
    "if dataset == 'summeval':\n",
    "    SCORES = ['coherency', 'consistency', 'fluency', 'relevance'] \n",
    "elif dataset == 'topicalchat':\n",
    "    SCORES = ['coherency', 'continuity', 'engagingness', 'naturalness']\n",
    "elif dataset == 'wi-dev':\n",
    "    SCORES = ['overall'] \n",
    "    prompt_nums = [1]\n",
    "\n",
    "for score_type in SCORES:\n",
    "    paths = [f\"{BASE_PATH}/{dataset}/{system}/{score_type}/{mode}-{i}/outputs/combined.json\" for i in prompt_nums] #[1, 2, 3, 4]\n",
    "    out = multi_system_evaluation(paths, dataset=dataset, score_type=score_type, balanced=False)\n",
    "\n",
    "    for k in out['means'].keys():\n",
    "        #if k in ['sys_spear', 'spear']:\n",
    "        if k in ['spear']:\n",
    "            #print(f\" & {out['means'][k]:.1f}\\std{{{out['stds'][k]:.1f}}}\", end='')\n",
    "            print(f\" & {out['means'][k]:.1f}\", end='')"
   ]
  },
  {
   "cell_type": "code",
   "execution_count": null,
   "metadata": {},
   "outputs": [],
   "source": [
    "import matplotlib.pyplot as plt\n",
    "import pandas as pd\n",
    "import seaborn as sns\n",
    "import itertools\n",
    "\n",
    "from src.evaluation.scripts import load_system\n",
    "from src.evaluation.eval_tools import Evaluater\n",
    "\n",
    "i = 1\n",
    "score_type = 'overall'\n",
    "\n",
    "\n",
    "path = f\"{BASE_PATH}/{dataset}/{system}/{score_type}/{mode}-{i}/outputs/combined.json\"\n",
    "sys = load_system(path)\n",
    "\n",
    "ratings = sys.ratings\n",
    "labels = Evaluater.load_ratings_labels(dataset=dataset, score_type=score_type)\n",
    "\n",
    "#[['A', 'B', 'C'] ['1', '2'] ['i', 'ii']]\n",
    "headers = itertools.product(*[['A', 'B', 'C'], ['1', '2'], ['-i', '-ii']])\n",
    "headers = sorted([''.join(x) for x in headers])\n",
    "lab_to_cefr = {k:v for k, v in enumerate(headers)}\n",
    "\n",
    "y_preds = [v for k, v in sorted(ratings[0].items()) if k!=262]\n",
    "y_labels = [lab_to_cefr[v] if v < 10 else lab_to_cefr[v-1] for k, v in sorted(labels[0].items()) if k!=262]\n",
    "\n",
    "# sort into labels, to look at distributions\n",
    "# out = defaultdict(list)\n",
    "# for lab, pred in zip(y_labels, y_preds):\n",
    "#     out[lab].append(pred)\n",
    "\n",
    "\n",
    "df = pd.DataFrame({'labels':y_labels, 'wins':y_preds})\n",
    "df = df.sort_values(by=['labels'])\n",
    "\n",
    "sns.boxplot(data=df, x=\"labels\", y=\"wins\")\n",
    "#plt.scatter(y_labels, y_preds)"
   ]
  },
  {
   "cell_type": "code",
   "execution_count": null,
   "metadata": {},
   "outputs": [],
   "source": [
    "from src.comparative.tools import comparatisons_to_tensors\n",
    "\n",
    "sys = load_system(path)\n",
    "C, M = comparatisons_to_tensors(sys.comparisons)\n",
    "C = C[0]\n",
    "M = M[0]"
   ]
  },
  {
   "cell_type": "code",
   "execution_count": null,
   "metadata": {},
   "outputs": [],
   "source": [
    "from src.comparative.tools import generate_mask_tensor, win_ratio\n",
    "\n",
    "M_sel = generate_mask_tensor(N=300, num_comp=1000, num_contexts=1, mode='random')[0]\n",
    "M_new = M * M_sel\n",
    "\n",
    "scores = win_ratio(C, M_new)\n",
    "scores_dict = {k:v for k, v in enumerate(scores)}\n",
    "labels = Evaluater.load_ratings_labels(dataset='wi-dev', score_type='overall')\n",
    "labels = [v for k, v in sorted(labels[0].items())]"
   ]
  },
  {
   "cell_type": "code",
   "execution_count": null,
   "metadata": {},
   "outputs": [],
   "source": []
  },
  {
   "cell_type": "code",
   "execution_count": null,
   "metadata": {},
   "outputs": [],
   "source": [
    "import scipy\n",
    "from collections import defaultdict\n",
    "from tqdm import tqdm\n",
    "\n",
    "def get_rand_comp_perf(sys, C, M, x_axis, mode='random'):\n",
    "    C, M = comparatisons_to_tensors(sys.comparisons)\n",
    "    C = C[0]\n",
    "    M = M[0]\n",
    "\n",
    "    means, stds = [], []\n",
    "    for R in tqdm(x_axis):\n",
    "        R_perf = []\n",
    "        while len(R_perf) < 50:\n",
    "            M_sel = generate_mask_tensor(N=300, num_comp=R, num_contexts=1, mode=mode)[0]\n",
    "            M_new = M * M_sel\n",
    "\n",
    "            scores = win_ratio(C, M_new)\n",
    "            scores_dict = {k:v for k, v in enumerate(scores)}\n",
    "            labels = Evaluater.load_ratings_labels(dataset='wi-dev', score_type='overall')\n",
    "            labels = [v for k, v in sorted(labels[0].items())]\n",
    "\n",
    "            spear = scipy.stats.spearmanr(scores, labels)[0]  \n",
    "\n",
    "            if not np.isnan(spear):\n",
    "                R_perf.append(spear)\n",
    "\n",
    "        mean = np.mean(R_perf)\n",
    "        std = np.std(R_perf)\n",
    "\n",
    "        means.append(mean)\n",
    "        stds.append(std)\n",
    "    return means, stds\n",
    "\n",
    "\n",
    "# select system\n",
    "i = 2\n",
    "score_type = 'overall'\n",
    "path = f\"{BASE_PATH}/{dataset}/{system}/{score_type}/{mode}-{i}/outputs/combined.json\"\n",
    "sys = load_system(path)\n",
    "\n",
    "# select range\n",
    "x_axis = np.arange(300*4, 300*299+1, 300*5)\n",
    "rand_means, rand_stds = get_rand_comp_perf(sys, C, M, x_axis, mode='random')\n",
    "\n",
    "# get outputs\n",
    "x_axis_sym = np.arange(300*9, 300*299+1, 300*5)\n",
    "sym_means, sym_stds = get_rand_comp_perf(sys, C, M, x_axis_sym, mode='symmetric')\n"
   ]
  },
  {
   "cell_type": "code",
   "execution_count": null,
   "metadata": {
    "scrolled": false
   },
   "outputs": [],
   "source": [
    "import matplotlib.pyplot as plt\n",
    "\n",
    "x_axis = np.arange(300*4, 300*299+1, 300*5)\n",
    "plt.plot(x_axis, rand_means)\n",
    "\n",
    "x_axis_sym = np.arange(300*9, 300*299+1, 300*5)\n",
    "plt.plot(x_axis_sym, sym_means)\n",
    "\n",
    "plt.ylabel('spearman rank')\n",
    "plt.xlabel('number of comparisons')\n",
    "plt.legend(['random', 'symmetric'])"
   ]
  },
  {
   "cell_type": "code",
   "execution_count": null,
   "metadata": {},
   "outputs": [],
   "source": [
    "def win_ratio(C, M):  \n",
    "    C = C*M  \n",
    "    M = M + M.T\n",
    "    print(C.shape)\n",
    "    print(M.shape)\n",
    "    x = np.sum(C, axis=1)/np.sum(M, axis=1)\n",
    "    return x\n",
    "\n",
    "scores = win_ratio(C, M_new)\n"
   ]
  },
  {
   "cell_type": "code",
   "execution_count": null,
   "metadata": {},
   "outputs": [],
   "source": [
    "np.sum(M, axis=1)"
   ]
  },
  {
   "cell_type": "code",
   "execution_count": null,
   "metadata": {},
   "outputs": [],
   "source": [
    "print((42.8 + 40.3 + 31.9 + 47.1 + 32.5 + 44.5 + 56.9 + 38.4 + 45.9 + 43.7)/10)"
   ]
  },
  {
   "cell_type": "code",
   "execution_count": null,
   "metadata": {},
   "outputs": [],
   "source": []
  }
 ],
 "metadata": {
  "kernelspec": {
   "display_name": "torch1.12",
   "language": "python",
   "name": "torch1.12"
  },
  "language_info": {
   "codemirror_mode": {
    "name": "ipython",
    "version": 3
   },
   "file_extension": ".py",
   "mimetype": "text/x-python",
   "name": "python",
   "nbconvert_exporter": "python",
   "pygments_lexer": "ipython3",
   "version": "3.8.2"
  }
 },
 "nbformat": 4,
 "nbformat_minor": 4
}
