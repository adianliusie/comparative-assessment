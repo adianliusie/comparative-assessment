{
 "cells": [
  {
   "cell_type": "code",
   "execution_count": 1,
   "metadata": {},
   "outputs": [],
   "source": [
    "%load_ext autoreload\n",
    "%autoreload 2"
   ]
  },
  {
   "cell_type": "code",
   "execution_count": 91,
   "metadata": {},
   "outputs": [
    {
     "name": "stdout",
     "output_type": "stream",
     "text": [
      " & 40.2"
     ]
    }
   ],
   "source": [
    "from src.evaluation.scripts import multi_system_evaluation, load_system\n",
    "\n",
    "BASE_PATH = '/home/al826/rds/hpc-work/2023/comparative/generate/output_text'\n",
    "system = 'flant5-xl'\n",
    "mode = 'comp-probs'  #comp-probs, scoring\n",
    "dataset='wi-dev'\n",
    "\n",
    "prompt_nums = [1, 2, 3, 4]\n",
    "if dataset == 'summeval':\n",
    "    SCORES = ['coherency', 'consistency', 'fluency', 'relevance'] \n",
    "elif dataset == 'topicalchat':\n",
    "    SCORES = ['coherency', 'continuity', 'engagingness', 'naturalness']\n",
    "elif dataset == 'wi-dev':\n",
    "    SCORES = ['overall'] \n",
    "    prompt_nums = [1, 2]\n",
    "\n",
    "for score_type in SCORES:\n",
    "    paths = [f\"{BASE_PATH}/{dataset}/{system}/{score_type}/{mode}-{i}/outputs/combined.json\" for i in prompt_nums] #[1, 2, 3, 4]\n",
    "    out = multi_system_evaluation(paths, dataset=dataset, score_type=score_type, balanced=False)\n",
    "\n",
    "    for k in out['means'].keys():\n",
    "        #if k in ['sys_spear', 'spear']:\n",
    "        if k in ['spear']:\n",
    "            #print(f\" & {out['means'][k]:.1f}\\std{{{out['stds'][k]:.1f}}}\", end='')\n",
    "            print(f\" & {out['means'][k]:.1f}\", end='')"
   ]
  },
  {
   "cell_type": "code",
   "execution_count": 92,
   "metadata": {},
   "outputs": [
    {
     "data": {
      "text/plain": [
       "<AxesSubplot: xlabel='labels', ylabel='wins'>"
      ]
     },
     "execution_count": 92,
     "metadata": {},
     "output_type": "execute_result"
    },
    {
     "data": {
      "image/png": "[encoded data removed]",
      "text/plain": [
       "<Figure size 640x480 with 1 Axes>"
      ]
     },
     "metadata": {},
     "output_type": "display_data"
    }
   ],
   "source": [
    "import matplotlib.pyplot as plt\n",
    "import pandas as pd\n",
    "import seaborn as sns\n",
    "import itertools\n",
    "\n",
    "from src.evaluation.scripts import load_system\n",
    "from src.evaluation.eval_tools import Evaluater\n",
    "\n",
    "i = 1\n",
    "score_type = 'overall'\n",
    "\n",
    "\n",
    "path = f\"{BASE_PATH}/{dataset}/{system}/{score_type}/{mode}-{i}/outputs/combined.json\"\n",
    "sys = load_system(path)\n",
    "\n",
    "ratings = sys.ratings\n",
    "labels = Evaluater.load_ratings_labels(dataset=dataset, score_type=score_type)\n",
    "\n",
    "#[['A', 'B', 'C'] ['1', '2'] ['i', 'ii']]\n",
    "headers = itertools.product(*[['A', 'B', 'C'], ['1', '2'], ['-i', '-ii']])\n",
    "headers = sorted([''.join(x) for x in headers])\n",
    "lab_to_cefr = {k:v for k, v in enumerate(headers)}\n",
    "\n",
    "y_preds = [v for k, v in sorted(ratings[0].items()) if k!=262]\n",
    "y_labels = [lab_to_cefr[v] if v < 10 else lab_to_cefr[v-1] for k, v in sorted(labels[0].items()) if k!=262]\n",
    "\n",
    "# sort into labels, to look at distributions\n",
    "# out = defaultdict(list)\n",
    "# for lab, pred in zip(y_labels, y_preds):\n",
    "#     out[lab].append(pred)\n",
    "\n",
    "\n",
    "df = pd.DataFrame({'labels':y_labels, 'wins':y_preds})\n",
    "df = df.sort_values(by=['labels'])\n",
    "\n",
    "sns.boxplot(data=df, x=\"labels\", y=\"wins\")\n",
    "#plt.scatter(y_labels, y_preds)"
   ]
  },
  {
   "cell_type": "code",
   "execution_count": 116,
   "metadata": {},
   "outputs": [],
   "source": [
    "from src.comparative.tools import comparatisons_to_tensors\n",
    "\n",
    "sys = load_system(path)\n",
    "C, M = comparatisons_to_tensors(sys.comparisons)\n",
    "C = C[0]\n",
    "M = M[0]"
   ]
  },
  {
   "cell_type": "code",
   "execution_count": 154,
   "metadata": {},
   "outputs": [],
   "source": [
    "from src.comparative.tools import generate_mask_tensor, win_ratio\n",
    "\n",
    "M_sel = generate_mask_tensor(N=300, num_comp=1000, num_contexts=1, mode='random')[0]\n",
    "M_new = M * M_sel\n",
    "\n",
    "scores = win_ratio(C, M_new)\n",
    "scores_dict = {k:v for k, v in enumerate(scores)}\n",
    "labels = Evaluater.load_ratings_labels(dataset='wi-dev', score_type='overall')\n",
    "labels = [v for k, v in sorted(labels[0].items())]"
   ]
  },
  {
   "cell_type": "code",
   "execution_count": null,
   "metadata": {},
   "outputs": [],
   "source": []
  },
  {
   "cell_type": "code",
   "execution_count": null,
   "metadata": {},
   "outputs": [
    {
     "name": "stdout",
     "output_type": "stream",
     "text": [
      "1200\n",
      "0.19499470474165842\n",
      "2700\n",
      "0.2457979165470408\n",
      "4200\n",
      "0.2653084631285371\n",
      "5700\n",
      "0.2710655362301954\n",
      "7200\n",
      "0.2836550039769946\n",
      "8700\n",
      "0.2898137530976841\n",
      "10200\n",
      "0.2920702698968933\n",
      "11700\n",
      "0.29781096585785527\n",
      "13200\n",
      "0.2949206073741663\n",
      "14700\n",
      "0.29634625123746167\n",
      "16200\n",
      "0.29817449234529947\n",
      "17700\n",
      "0.2993457149710012\n",
      "19200\n",
      "0.3021702220094848\n",
      "20700\n",
      "0.3024785975188207\n",
      "22200\n",
      "0.3011751149852109\n",
      "23700\n",
      "0.301418065301811\n",
      "25200\n",
      "0.30400337703105246\n",
      "26700\n",
      "0.304556063940712\n",
      "28200\n",
      "0.3060108925956167\n",
      "29700\n",
      "0.3057586466573779\n",
      "31200\n",
      "0.30550402494768114\n",
      "32700\n",
      "0.30487072205248084\n",
      "34200\n",
      "0.30560471065553435\n",
      "35700\n",
      "0.30549380788391106\n",
      "37200\n",
      "0.3074253908561478\n",
      "38700\n",
      "0.30929879664415905\n",
      "40200\n",
      "0.3097806790675727\n",
      "41700\n",
      "0.30806287269558486\n",
      "43200\n",
      "0.30910828225124753\n",
      "44700\n",
      "0.3096200086018764\n",
      "46200\n",
      "0.3088728205834438\n",
      "47700\n",
      "0.3099468268336013\n",
      "49200\n",
      "0.3086031731958973\n",
      "50700\n",
      "0.3096044152482947\n",
      "52200\n",
      "0.3091788891886403\n",
      "53700\n",
      "0.3095440368635482\n",
      "55200\n",
      "0.30889698905510843\n",
      "56700\n",
      "0.30945825078935874\n",
      "58200\n",
      "0.3097360996682223\n",
      "59700\n",
      "0.30977120875457714\n",
      "61200\n",
      "0.31138650766655573\n",
      "62700\n",
      "0.31037895110241254\n",
      "64200\n",
      "0.30956710643304625\n",
      "65700\n",
      "0.31028989456336925\n",
      "67200\n",
      "0.3106370460543673\n",
      "68700\n",
      "0.31059830090788293\n",
      "70200\n",
      "0.31185409058636127\n",
      "71700\n"
     ]
    }
   ],
   "source": [
    "import scipy\n",
    "from collections import defaultdict\n",
    "\n",
    "def get_rand_comp_perf(C, M, x_axis, mode='random'):\n",
    "    means, stds = [], []\n",
    "    for R in x_axis:\n",
    "        print(R)\n",
    "        R_perf = []\n",
    "        while len(R_perf) < 100:\n",
    "            M_sel = generate_mask_tensor(N=300, num_comp=R, num_contexts=1, mode=mode)[0]\n",
    "            M_new = M * M_sel\n",
    "\n",
    "            scores = win_ratio(C, M_new)\n",
    "            scores_dict = {k:v for k, v in enumerate(scores)}\n",
    "            labels = Evaluater.load_ratings_labels(dataset='wi-dev', score_type='overall')\n",
    "            labels = [v for k, v in sorted(labels[0].items())]\n",
    "\n",
    "            spear = scipy.stats.spearmanr(scores, labels)[0]  \n",
    "\n",
    "            if not np.isnan(spear):\n",
    "                R_perf.append(spear)\n",
    "\n",
    "        mean = np.mean(R_perf)\n",
    "        std = np.std(R_perf)\n",
    "\n",
    "        means.append(mean)\n",
    "        stds.append(std)\n",
    "        print(mean)\n",
    "    return means, stds\n",
    "\n",
    "\n",
    "x_axis = np.arange(300*4, 300*299+1, 300*5)\n",
    "means, stds = get_rand_comp_perf(C, M, x_axis)"
   ]
  },
  {
   "cell_type": "code",
   "execution_count": 166,
   "metadata": {},
   "outputs": [
    {
     "data": {
      "text/plain": [
       "[<matplotlib.lines.Line2D at 0x2adbb2e37d60>]"
      ]
     },
     "execution_count": 166,
     "metadata": {},
     "output_type": "execute_result"
    },
    {
     "data": {
      "image/png": "[encoded data removed]",
      "text/plain": [
       "<Figure size 640x480 with 1 Axes>"
      ]
     },
     "metadata": {},
     "output_type": "display_data"
    }
   ],
   "source": [
    "import matplotlib.pyplot as plt\n",
    "\n",
    "x_axis = np.arange(300*4, 300*299+1, 300*10)\n",
    "\n",
    "plt.plot(x_axis, output[-30:])"
   ]
  },
  {
   "cell_type": "code",
   "execution_count": 126,
   "metadata": {},
   "outputs": [
    {
     "name": "stdout",
     "output_type": "stream",
     "text": [
      "(1, 300, 300)\n",
      "(300, 300, 300)\n"
     ]
    },
    {
     "name": "stderr",
     "output_type": "stream",
     "text": [
      "/tmp/ipykernel_17335/834250874.py:6: RuntimeWarning: invalid value encountered in divide\n",
      "  x = np.sum(C, axis=1)/np.sum(M, axis=1)\n"
     ]
    }
   ],
   "source": [
    "def win_ratio(C, M):  \n",
    "    C = C*M  \n",
    "    M = M + M.T\n",
    "    print(C.shape)\n",
    "    print(M.shape)\n",
    "    x = np.sum(C, axis=1)/np.sum(M, axis=1)\n",
    "    return x\n",
    "\n",
    "scores = win_ratio(C, M_new)\n"
   ]
  },
  {
   "cell_type": "code",
   "execution_count": 110,
   "metadata": {},
   "outputs": [
    {
     "data": {
      "text/plain": [
       "array([[299., 299., 299., 299., 299., 299., 299., 299., 299., 299., 299.,\n",
       "        299., 299., 299., 299., 299., 299., 299., 299., 299., 299., 299.,\n",
       "        299., 299., 299., 299., 299., 299., 299., 299., 299., 299., 299.,\n",
       "        299., 299., 299., 299., 299., 299., 299., 299., 299., 299., 299.,\n",
       "        299., 299., 299., 299., 299., 299., 299., 299., 299., 299., 299.,\n",
       "        299., 299., 299., 299., 299., 299., 299., 299., 299., 299., 299.,\n",
       "        299., 299., 299., 299., 299., 299., 299., 299., 299., 299., 299.,\n",
       "        299., 299., 299., 299., 299., 299., 299., 299., 299., 299., 299.,\n",
       "        299., 299., 299., 299., 299., 299., 299., 299., 299., 299., 299.,\n",
       "        299., 299., 299., 299., 299., 299., 299., 299., 299., 299., 299.,\n",
       "        299., 299., 299., 299., 299., 299., 299., 299., 299., 299., 299.,\n",
       "        299., 299., 299., 299., 299., 299., 299., 299., 299., 299., 299.,\n",
       "        299., 299., 299., 299., 299., 299., 299., 299., 299., 299., 299.,\n",
       "        299., 299., 299., 299., 299., 299., 299., 299., 299., 299., 299.,\n",
       "        299., 299., 299., 299., 299., 299., 299., 299., 299., 299., 299.,\n",
       "        299., 299., 299., 299., 299., 299., 299., 299., 299., 299., 299.,\n",
       "        299., 299., 299., 299., 299., 299., 299., 299., 299., 299., 299.,\n",
       "        299., 299., 299., 299., 299., 299., 299., 299., 299., 299., 299.,\n",
       "        299., 299., 299., 299., 299., 299., 299., 299., 299., 299., 299.,\n",
       "        299., 299., 299., 299., 299., 299., 299., 299., 299., 299., 299.,\n",
       "        299., 299., 299., 299., 299., 299., 299., 299., 299., 299., 299.,\n",
       "        299., 299., 299., 299., 299., 299., 299., 299., 299., 299., 299.,\n",
       "        299., 299., 299., 299., 299., 299., 299., 299., 299., 299., 299.,\n",
       "        299., 299., 299., 299., 299., 299., 299., 299., 299., 299., 299.,\n",
       "        299., 299., 299., 299., 299., 299., 299., 299., 299., 299., 299.,\n",
       "        299., 299., 299., 299., 299., 299., 299., 299., 299., 299., 299.,\n",
       "        299., 299., 299., 299., 299., 299., 299., 299., 299., 299., 299.,\n",
       "        299., 299., 299.]])"
      ]
     },
     "execution_count": 110,
     "metadata": {},
     "output_type": "execute_result"
    }
   ],
   "source": [
    "np.sum(M, axis=1)"
   ]
  },
  {
   "cell_type": "code",
   "execution_count": null,
   "metadata": {},
   "outputs": [],
   "source": []
  }
 ],
 "metadata": {
  "kernelspec": {
   "display_name": "torch1.12",
   "language": "python",
   "name": "torch1.12"
  },
  "language_info": {
   "codemirror_mode": {
    "name": "ipython",
    "version": 3
   },
   "file_extension": ".py",
   "mimetype": "text/x-python",
   "name": "python",
   "nbconvert_exporter": "python",
   "pygments_lexer": "ipython3",
   "version": "3.8.2"
  }
 },
 "nbformat": 4,
 "nbformat_minor": 4
}
